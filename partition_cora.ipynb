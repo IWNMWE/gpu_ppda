{
 "cells": [
  {
   "cell_type": "code",
   "execution_count": 1,
   "metadata": {},
   "outputs": [],
   "source": [
    "import copy\n",
    "import math\n",
    "import random\n",
    "import time\n",
    "\n",
    "import numpy as np\n",
    "import torch\n",
    "import torch.optim as optim\n",
    "\n",
    "from pfedgraph_gcosine.config import get_args\n",
    "from pfedgraph_gcosine.utils import aggregation_by_graph, update_graph_matrix_neighbor, compute_acc, compute_local_test_accuracy\n",
    "from prepare_data import get_dataloader\n",
    "from attack import *\n",
    "from model import coragcn, niidgcn\n",
    "from graphdataset import graphdataset_read"
   ]
  },
  {
   "cell_type": "code",
   "execution_count": 2,
   "metadata": {},
   "outputs": [],
   "source": [
    "from scipy.spatial.distance import cosine, cdist\n"
   ]
  },
  {
   "cell_type": "code",
   "execution_count": 6,
   "metadata": {},
   "outputs": [],
   "source": [
    "dataset = 'pubmed'\n",
    "beta = 0.5\n",
    "distr = 'noniid'"
   ]
  },
  {
   "cell_type": "code",
   "execution_count": 4,
   "metadata": {},
   "outputs": [
    {
     "name": "stdout",
     "output_type": "stream",
     "text": [
      "config:  {'fedgraph_task': 'NC', 'dataset': 'pubmed', 'method': 'FedGCN', 'iid_beta': 0.5, 'distribution_type': 'average', 'n_trainer': 10, 'batch_size': -1, 'num_hops': 1, 'use_huggingface': False, 'num_nodes_to_remove': 100}\n",
      "File already exists: ./data/pubmed/raw/ind.pubmed.x\n",
      "File already exists: ./data/pubmed/raw/ind.pubmed.tx\n",
      "File already exists: ./data/pubmed/raw/ind.pubmed.allx\n",
      "File already exists: ./data/pubmed/raw/ind.pubmed.y\n",
      "File already exists: ./data/pubmed/raw/ind.pubmed.ty\n",
      "File already exists: ./data/pubmed/raw/ind.pubmed.ally\n",
      "File already exists: ./data/pubmed/raw/ind.pubmed.graph\n",
      "File already exists: ./data/pubmed/raw/ind.pubmed.test.index\n"
     ]
    }
   ],
   "source": [
    "datasets, traindata_cls_counts_npy, data_distributions, val, _ = graphdataset_read(dataset, 10, 'noniid', beta, 3)"
   ]
  },
  {
   "cell_type": "code",
   "execution_count": 5,
   "metadata": {},
   "outputs": [
    {
     "data": {
      "text/plain": [
       "array([[8.020e+02, 1.471e+03, 0.000e+00],\n",
       "       [3.000e+00, 5.500e+01, 7.320e+02],\n",
       "       [4.260e+02, 5.590e+02, 1.985e+03],\n",
       "       [9.700e+01, 4.690e+02, 4.290e+02],\n",
       "       [4.870e+02, 3.400e+01, 2.530e+02],\n",
       "       [3.000e+00, 2.001e+03, 2.530e+02],\n",
       "       [4.000e+00, 1.000e+01, 2.626e+03],\n",
       "       [3.320e+02, 3.540e+02, 3.300e+01],\n",
       "       [1.021e+03, 1.177e+03, 3.300e+01],\n",
       "       [1.060e+02, 1.000e+00, 2.270e+02]])"
      ]
     },
     "execution_count": 5,
     "metadata": {},
     "output_type": "execute_result"
    }
   ],
   "source": [
    "traindata_cls_counts_npy"
   ]
  },
  {
   "cell_type": "code",
   "execution_count": 5,
   "metadata": {},
   "outputs": [
    {
     "data": {
      "text/plain": [
       "tensor([ True,  True,  True,  ..., False, False, False])"
      ]
     },
     "execution_count": 5,
     "metadata": {},
     "output_type": "execute_result"
    }
   ],
   "source": [
    "datasets[0].test_mask"
   ]
  },
  {
   "cell_type": "code",
   "execution_count": 6,
   "metadata": {},
   "outputs": [
    {
     "data": {
      "text/plain": [
       "tensor([True, True, True, True, True, True, True, True, True, True, True, True,\n",
       "        True, True, True, True, True, True, True, True, True, True, True, True,\n",
       "        True, True, True, True, True, True, True, True, True, True, True, True,\n",
       "        True, True, True, True, True, True, True, True, True, True, True, True,\n",
       "        True, True, True, True, True, True, True, True, True, True, True, True,\n",
       "        True, True, True, True, True, True, True, True, True, True, True, True,\n",
       "        True, True, True, True, True, True, True, True, True, True, True, True,\n",
       "        True, True, True, True, True, True, True, True, True, True, True, True,\n",
       "        True, True, True, True])"
      ]
     },
     "execution_count": 6,
     "metadata": {},
     "output_type": "execute_result"
    }
   ],
   "source": [
    "val.test_mask"
   ]
  },
  {
   "cell_type": "code",
   "execution_count": 8,
   "metadata": {},
   "outputs": [],
   "source": [
    "import scipy\n",
    "import numpy\n",
    "import os\n",
    "import pickle"
   ]
  },
  {
   "cell_type": "code",
   "execution_count": 9,
   "metadata": {},
   "outputs": [
    {
     "name": "stdout",
     "output_type": "stream",
     "text": [
      "(2841, 2841)\n",
      "(987, 987)\n",
      "(3712, 3712)\n",
      "(1243, 1243)\n",
      "(967, 967)\n",
      "(2505, 2505)\n",
      "(3300, 3300)\n",
      "(898, 898)\n",
      "(2747, 2747)\n",
      "(417, 417)\n"
     ]
    }
   ],
   "source": [
    "dists = []\n",
    "for dataset in datasets:\n",
    "    dist = cdist(dataset.x, dataset.x)\n",
    "    print(dist.shape)\n",
    "    dists.append(dist)\n",
    "D_partial = scipy.linalg.block_diag(*dists)"
   ]
  },
  {
   "cell_type": "code",
   "execution_count": 13,
   "metadata": {},
   "outputs": [
    {
     "name": "stdout",
     "output_type": "stream",
     "text": [
      "<class 'numpy.ndarray'>\n"
     ]
    }
   ],
   "source": [
    "print(type(traindata_cls_counts_npy))"
   ]
  },
  {
   "cell_type": "code",
   "execution_count": 10,
   "metadata": {},
   "outputs": [],
   "source": [
    "import numpy\n",
    "import os\n",
    "import pickle"
   ]
  },
  {
   "cell_type": "code",
   "execution_count": 9,
   "metadata": {},
   "outputs": [],
   "source": [
    "base = '/home/sattu/pFedGraph/data/'"
   ]
  },
  {
   "cell_type": "code",
   "execution_count": 11,
   "metadata": {},
   "outputs": [],
   "source": [
    "name  = base + dataset + '/' + distr  + '/' + str(beta).replace('.', '_') \n",
    "os.makedirs(name, exist_ok=True)\n",
    "numpy.save(name + '/D_partial.npy', D_partial)"
   ]
  },
  {
   "cell_type": "code",
   "execution_count": 12,
   "metadata": {},
   "outputs": [],
   "source": [
    "with open(name + '/datasets.pkl', \"wb\") as f:\n",
    "    pickle.dump(datasets,f)\n",
    "numpy.save(name + '/traindata_cls_counts_npy.npy', traindata_cls_counts_npy)\n",
    "numpy.save(name + '/data_distributions.npy', data_distributions)"
   ]
  },
  {
   "cell_type": "code",
   "execution_count": 13,
   "metadata": {},
   "outputs": [],
   "source": [
    "torch.save(val, name + '/val.pt')"
   ]
  },
  {
   "cell_type": "code",
   "execution_count": 14,
   "metadata": {},
   "outputs": [
    {
     "name": "stdout",
     "output_type": "stream",
     "text": [
      "19617\n"
     ]
    }
   ],
   "source": [
    "import numpy as np\n",
    "datasets = np.load('/home/sattu/pFedGraph/data/pubmed/noniid/0_5/datasets.pkl', allow_pickle=True)\n",
    "n = 0\n",
    "l = [0]\n",
    "for dataset in datasets:\n",
    "    n += dataset.x.shape[0]\n",
    "    l.append(n)\n",
    "C = np.zeros((n, len(datasets)))\n",
    "print(n)\n",
    "for i in range(len(l) - 1):\n",
    "    C[l[i]:l[i+1], i] = 1\n"
   ]
  },
  {
   "cell_type": "code",
   "execution_count": 19,
   "metadata": {},
   "outputs": [
    {
     "data": {
      "text/plain": [
       "array([[1., 0., 0., ..., 0., 0., 0.],\n",
       "       [1., 0., 0., ..., 0., 0., 0.],\n",
       "       [1., 0., 0., ..., 0., 0., 0.],\n",
       "       ...,\n",
       "       [0., 0., 0., ..., 0., 0., 1.],\n",
       "       [0., 0., 0., ..., 0., 0., 1.],\n",
       "       [0., 0., 0., ..., 0., 0., 1.]])"
      ]
     },
     "execution_count": 19,
     "metadata": {},
     "output_type": "execute_result"
    }
   ],
   "source": [
    "C"
   ]
  },
  {
   "cell_type": "code",
   "execution_count": 15,
   "metadata": {},
   "outputs": [],
   "source": [
    "np.save(\"/home/sattu/pFedGraph/data/pubmed/noniid/0_5/C.npy\", C)"
   ]
  },
  {
   "cell_type": "code",
   "execution_count": null,
   "metadata": {},
   "outputs": [],
   "source": []
  }
 ],
 "metadata": {
  "kernelspec": {
   "display_name": "base",
   "language": "python",
   "name": "python3"
  },
  "language_info": {
   "codemirror_mode": {
    "name": "ipython",
    "version": 3
   },
   "file_extension": ".py",
   "mimetype": "text/x-python",
   "name": "python",
   "nbconvert_exporter": "python",
   "pygments_lexer": "ipython3",
   "version": "3.12.4"
  }
 },
 "nbformat": 4,
 "nbformat_minor": 2
}
